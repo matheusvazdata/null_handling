{
 "cells": [
  {
   "cell_type": "markdown",
   "metadata": {},
   "source": [
    "### Tratamento de valores nulos"
   ]
  },
  {
   "cell_type": "markdown",
   "metadata": {},
   "source": [
    "##### Importando as bibliotecas que serão utilizadas no projeto"
   ]
  },
  {
   "cell_type": "code",
   "execution_count": 21,
   "metadata": {},
   "outputs": [],
   "source": [
    "import pandas as pd\n",
    "import numpy as np\n",
    "import matplotlib.pyplot as plt\n",
    "import seaborn as sns\n",
    "import random"
   ]
  },
  {
   "cell_type": "markdown",
   "metadata": {},
   "source": [
    "##### Preparando os dados para uso"
   ]
  },
  {
   "cell_type": "code",
   "execution_count": 2,
   "metadata": {},
   "outputs": [],
   "source": [
    "# Configurar o gerador de números aleatórios para reprodutibilidade\n",
    "random.seed(0)\n",
    "np.random.seed(0)"
   ]
  },
  {
   "cell_type": "code",
   "execution_count": 3,
   "metadata": {},
   "outputs": [],
   "source": [
    "# Listas de nomes e cidades fictícias\n",
    "nomes = [\"Ana\", \"Bruno\", \"Carlos\", \"Diana\", \"Eduardo\", \"Fernanda\", \"Gustavo\", \"Helena\", \"Igor\", \"Juliana\"]\n",
    "cidades = [\"Teresina\", \"Rio de Janeiro\", \"Belo Horizonte\", \"Curitiba\", \"Porto Alegre\", \"Recife\", \"Salvador\", \"Brasília\", \"Fortaleza\", \"Manaus\"]"
   ]
  },
  {
   "cell_type": "code",
   "execution_count": 4,
   "metadata": {},
   "outputs": [],
   "source": [
    "# Gerando dados (1000 linhas)\n",
    "data = {\n",
    "    \"Nome\": [random.choice(nomes) for _ in range(1000)],\n",
    "    \"Idade\": [random.choice([np.nan, random.randint(18, 70)]) for _ in range(1000)],\n",
    "    \"Cidade\": [random.choice(cidades) for _ in range(1000)],\n",
    "    \"Salário\": [round(random.uniform(1500, 10000), 2) for _ in range(1000)]\n",
    "}"
   ]
  },
  {
   "cell_type": "code",
   "execution_count": 5,
   "metadata": {},
   "outputs": [],
   "source": [
    "# Criando um DataFrame com os dados aleatórios gerados\n",
    "df = pd.DataFrame(data)"
   ]
  },
  {
   "cell_type": "code",
   "execution_count": 6,
   "metadata": {},
   "outputs": [
    {
     "data": {
      "text/html": [
       "<div>\n",
       "<style scoped>\n",
       "    .dataframe tbody tr th:only-of-type {\n",
       "        vertical-align: middle;\n",
       "    }\n",
       "\n",
       "    .dataframe tbody tr th {\n",
       "        vertical-align: top;\n",
       "    }\n",
       "\n",
       "    .dataframe thead th {\n",
       "        text-align: right;\n",
       "    }\n",
       "</style>\n",
       "<table border=\"1\" class=\"dataframe\">\n",
       "  <thead>\n",
       "    <tr style=\"text-align: right;\">\n",
       "      <th></th>\n",
       "      <th>Nome</th>\n",
       "      <th>Idade</th>\n",
       "      <th>Cidade</th>\n",
       "      <th>Salário</th>\n",
       "    </tr>\n",
       "  </thead>\n",
       "  <tbody>\n",
       "    <tr>\n",
       "      <th>0</th>\n",
       "      <td>Gustavo</td>\n",
       "      <td>29.0</td>\n",
       "      <td>Manaus</td>\n",
       "      <td>6568.87</td>\n",
       "    </tr>\n",
       "    <tr>\n",
       "      <th>1</th>\n",
       "      <td>Gustavo</td>\n",
       "      <td>NaN</td>\n",
       "      <td>Curitiba</td>\n",
       "      <td>3395.24</td>\n",
       "    </tr>\n",
       "    <tr>\n",
       "      <th>2</th>\n",
       "      <td>Ana</td>\n",
       "      <td>NaN</td>\n",
       "      <td>Fortaleza</td>\n",
       "      <td>1562.50</td>\n",
       "    </tr>\n",
       "    <tr>\n",
       "      <th>3</th>\n",
       "      <td>Eduardo</td>\n",
       "      <td>65.0</td>\n",
       "      <td>Manaus</td>\n",
       "      <td>5290.35</td>\n",
       "    </tr>\n",
       "    <tr>\n",
       "      <th>4</th>\n",
       "      <td>Igor</td>\n",
       "      <td>NaN</td>\n",
       "      <td>Fortaleza</td>\n",
       "      <td>1591.56</td>\n",
       "    </tr>\n",
       "  </tbody>\n",
       "</table>\n",
       "</div>"
      ],
      "text/plain": [
       "      Nome  Idade     Cidade  Salário\n",
       "0  Gustavo   29.0     Manaus  6568.87\n",
       "1  Gustavo    NaN   Curitiba  3395.24\n",
       "2      Ana    NaN  Fortaleza  1562.50\n",
       "3  Eduardo   65.0     Manaus  5290.35\n",
       "4     Igor    NaN  Fortaleza  1591.56"
      ]
     },
     "execution_count": 6,
     "metadata": {},
     "output_type": "execute_result"
    }
   ],
   "source": [
    "# Exibindo uma amostra dos dados\n",
    "df.head()"
   ]
  },
  {
   "cell_type": "code",
   "execution_count": 7,
   "metadata": {},
   "outputs": [],
   "source": [
    "# Salvando o DataFrame em um arquivo CSV\n",
    "df.to_csv(\"datasets/dataset_with_null_ages.csv\", index=False)"
   ]
  },
  {
   "cell_type": "markdown",
   "metadata": {},
   "source": [
    "##### Indexação, Filtros, loc e iloc"
   ]
  },
  {
   "cell_type": "code",
   "execution_count": 8,
   "metadata": {},
   "outputs": [
    {
     "data": {
      "text/plain": [
       "0    29.0\n",
       "1     NaN\n",
       "2     NaN\n",
       "3    65.0\n",
       "4     NaN\n",
       "Name: Idade, dtype: float64"
      ]
     },
     "execution_count": 8,
     "metadata": {},
     "output_type": "execute_result"
    }
   ],
   "source": [
    "# Selecionando a coluna idade\n",
    "coluna_idade = df['Idade']\n",
    "coluna_idade.head()"
   ]
  },
  {
   "cell_type": "markdown",
   "metadata": {},
   "source": [
    "Filtro"
   ]
  },
  {
   "cell_type": "code",
   "execution_count": 9,
   "metadata": {},
   "outputs": [
    {
     "data": {
      "text/html": [
       "<div>\n",
       "<style scoped>\n",
       "    .dataframe tbody tr th:only-of-type {\n",
       "        vertical-align: middle;\n",
       "    }\n",
       "\n",
       "    .dataframe tbody tr th {\n",
       "        vertical-align: top;\n",
       "    }\n",
       "\n",
       "    .dataframe thead th {\n",
       "        text-align: right;\n",
       "    }\n",
       "</style>\n",
       "<table border=\"1\" class=\"dataframe\">\n",
       "  <thead>\n",
       "    <tr style=\"text-align: right;\">\n",
       "      <th></th>\n",
       "      <th>Nome</th>\n",
       "      <th>Idade</th>\n",
       "      <th>Cidade</th>\n",
       "      <th>Salário</th>\n",
       "    </tr>\n",
       "  </thead>\n",
       "  <tbody>\n",
       "    <tr>\n",
       "      <th>3</th>\n",
       "      <td>Eduardo</td>\n",
       "      <td>65.0</td>\n",
       "      <td>Manaus</td>\n",
       "      <td>5290.35</td>\n",
       "    </tr>\n",
       "    <tr>\n",
       "      <th>5</th>\n",
       "      <td>Helena</td>\n",
       "      <td>42.0</td>\n",
       "      <td>Manaus</td>\n",
       "      <td>2804.46</td>\n",
       "    </tr>\n",
       "    <tr>\n",
       "      <th>7</th>\n",
       "      <td>Eduardo</td>\n",
       "      <td>32.0</td>\n",
       "      <td>Manaus</td>\n",
       "      <td>6420.72</td>\n",
       "    </tr>\n",
       "    <tr>\n",
       "      <th>10</th>\n",
       "      <td>Juliana</td>\n",
       "      <td>61.0</td>\n",
       "      <td>Brasília</td>\n",
       "      <td>8195.99</td>\n",
       "    </tr>\n",
       "    <tr>\n",
       "      <th>11</th>\n",
       "      <td>Diana</td>\n",
       "      <td>32.0</td>\n",
       "      <td>Manaus</td>\n",
       "      <td>7878.37</td>\n",
       "    </tr>\n",
       "    <tr>\n",
       "      <th>...</th>\n",
       "      <td>...</td>\n",
       "      <td>...</td>\n",
       "      <td>...</td>\n",
       "      <td>...</td>\n",
       "    </tr>\n",
       "    <tr>\n",
       "      <th>984</th>\n",
       "      <td>Juliana</td>\n",
       "      <td>51.0</td>\n",
       "      <td>Recife</td>\n",
       "      <td>2434.32</td>\n",
       "    </tr>\n",
       "    <tr>\n",
       "      <th>985</th>\n",
       "      <td>Igor</td>\n",
       "      <td>31.0</td>\n",
       "      <td>Porto Alegre</td>\n",
       "      <td>3492.52</td>\n",
       "    </tr>\n",
       "    <tr>\n",
       "      <th>986</th>\n",
       "      <td>Diana</td>\n",
       "      <td>31.0</td>\n",
       "      <td>Curitiba</td>\n",
       "      <td>9183.88</td>\n",
       "    </tr>\n",
       "    <tr>\n",
       "      <th>988</th>\n",
       "      <td>Helena</td>\n",
       "      <td>52.0</td>\n",
       "      <td>Teresina</td>\n",
       "      <td>6309.56</td>\n",
       "    </tr>\n",
       "    <tr>\n",
       "      <th>997</th>\n",
       "      <td>Bruno</td>\n",
       "      <td>31.0</td>\n",
       "      <td>Curitiba</td>\n",
       "      <td>1797.11</td>\n",
       "    </tr>\n",
       "  </tbody>\n",
       "</table>\n",
       "<p>378 rows × 4 columns</p>\n",
       "</div>"
      ],
      "text/plain": [
       "        Nome  Idade        Cidade  Salário\n",
       "3    Eduardo   65.0        Manaus  5290.35\n",
       "5     Helena   42.0        Manaus  2804.46\n",
       "7    Eduardo   32.0        Manaus  6420.72\n",
       "10   Juliana   61.0      Brasília  8195.99\n",
       "11     Diana   32.0        Manaus  7878.37\n",
       "..       ...    ...           ...      ...\n",
       "984  Juliana   51.0        Recife  2434.32\n",
       "985     Igor   31.0  Porto Alegre  3492.52\n",
       "986    Diana   31.0      Curitiba  9183.88\n",
       "988   Helena   52.0      Teresina  6309.56\n",
       "997    Bruno   31.0      Curitiba  1797.11\n",
       "\n",
       "[378 rows x 4 columns]"
      ]
     },
     "execution_count": 9,
     "metadata": {},
     "output_type": "execute_result"
    }
   ],
   "source": [
    "# Selecionando linhas com base em condição\n",
    "maiores_de_30 = df[df['Idade'] > 30]\n",
    "maiores_de_30"
   ]
  },
  {
   "cell_type": "markdown",
   "metadata": {},
   "source": [
    "loc"
   ]
  },
  {
   "cell_type": "code",
   "execution_count": 10,
   "metadata": {},
   "outputs": [
    {
     "data": {
      "text/plain": [
       "Nome       Gustavo\n",
       "Idade         29.0\n",
       "Cidade      Manaus\n",
       "Salário    6568.87\n",
       "Name: 0, dtype: object"
      ]
     },
     "execution_count": 10,
     "metadata": {},
     "output_type": "execute_result"
    }
   ],
   "source": [
    "# Seleção por rótulo (nome da linha/coluna)\n",
    "primeira_linha = df.loc[0]  # Primeira linha\n",
    "primeira_linha"
   ]
  },
  {
   "cell_type": "code",
   "execution_count": 11,
   "metadata": {},
   "outputs": [
    {
     "data": {
      "text/plain": [
       "'Ana'"
      ]
     },
     "execution_count": 11,
     "metadata": {},
     "output_type": "execute_result"
    }
   ],
   "source": [
    "# Valor da coluna 'Nome' na 3ª linha\n",
    "valor_especifico = df.loc[2, 'Nome']  \n",
    "valor_especifico"
   ]
  },
  {
   "cell_type": "markdown",
   "metadata": {},
   "source": [
    "iloc"
   ]
  },
  {
   "cell_type": "code",
   "execution_count": 12,
   "metadata": {},
   "outputs": [
    {
     "data": {
      "text/html": [
       "<div>\n",
       "<style scoped>\n",
       "    .dataframe tbody tr th:only-of-type {\n",
       "        vertical-align: middle;\n",
       "    }\n",
       "\n",
       "    .dataframe tbody tr th {\n",
       "        vertical-align: top;\n",
       "    }\n",
       "\n",
       "    .dataframe thead th {\n",
       "        text-align: right;\n",
       "    }\n",
       "</style>\n",
       "<table border=\"1\" class=\"dataframe\">\n",
       "  <thead>\n",
       "    <tr style=\"text-align: right;\">\n",
       "      <th></th>\n",
       "      <th>Nome</th>\n",
       "      <th>Idade</th>\n",
       "      <th>Cidade</th>\n",
       "      <th>Salário</th>\n",
       "    </tr>\n",
       "  </thead>\n",
       "  <tbody>\n",
       "    <tr>\n",
       "      <th>0</th>\n",
       "      <td>Gustavo</td>\n",
       "      <td>29.0</td>\n",
       "      <td>Manaus</td>\n",
       "      <td>6568.87</td>\n",
       "    </tr>\n",
       "    <tr>\n",
       "      <th>1</th>\n",
       "      <td>Gustavo</td>\n",
       "      <td>NaN</td>\n",
       "      <td>Curitiba</td>\n",
       "      <td>3395.24</td>\n",
       "    </tr>\n",
       "    <tr>\n",
       "      <th>2</th>\n",
       "      <td>Ana</td>\n",
       "      <td>NaN</td>\n",
       "      <td>Fortaleza</td>\n",
       "      <td>1562.50</td>\n",
       "    </tr>\n",
       "  </tbody>\n",
       "</table>\n",
       "</div>"
      ],
      "text/plain": [
       "      Nome  Idade     Cidade  Salário\n",
       "0  Gustavo   29.0     Manaus  6568.87\n",
       "1  Gustavo    NaN   Curitiba  3395.24\n",
       "2      Ana    NaN  Fortaleza  1562.50"
      ]
     },
     "execution_count": 12,
     "metadata": {},
     "output_type": "execute_result"
    }
   ],
   "source": [
    "# Seleção por posição (índice numérico)\n",
    "primeiras_3_linhas = df.iloc[:3]  # 3 primeiras linhas\n",
    "primeiras_3_linhas"
   ]
  },
  {
   "cell_type": "code",
   "execution_count": 13,
   "metadata": {},
   "outputs": [
    {
     "data": {
      "text/html": [
       "<div>\n",
       "<style scoped>\n",
       "    .dataframe tbody tr th:only-of-type {\n",
       "        vertical-align: middle;\n",
       "    }\n",
       "\n",
       "    .dataframe tbody tr th {\n",
       "        vertical-align: top;\n",
       "    }\n",
       "\n",
       "    .dataframe thead th {\n",
       "        text-align: right;\n",
       "    }\n",
       "</style>\n",
       "<table border=\"1\" class=\"dataframe\">\n",
       "  <thead>\n",
       "    <tr style=\"text-align: right;\">\n",
       "      <th></th>\n",
       "      <th>Idade</th>\n",
       "      <th>Cidade</th>\n",
       "    </tr>\n",
       "  </thead>\n",
       "  <tbody>\n",
       "    <tr>\n",
       "      <th>0</th>\n",
       "      <td>29.0</td>\n",
       "      <td>Manaus</td>\n",
       "    </tr>\n",
       "    <tr>\n",
       "      <th>1</th>\n",
       "      <td>NaN</td>\n",
       "      <td>Curitiba</td>\n",
       "    </tr>\n",
       "    <tr>\n",
       "      <th>2</th>\n",
       "      <td>NaN</td>\n",
       "      <td>Fortaleza</td>\n",
       "    </tr>\n",
       "    <tr>\n",
       "      <th>3</th>\n",
       "      <td>65.0</td>\n",
       "      <td>Manaus</td>\n",
       "    </tr>\n",
       "    <tr>\n",
       "      <th>4</th>\n",
       "      <td>NaN</td>\n",
       "      <td>Fortaleza</td>\n",
       "    </tr>\n",
       "    <tr>\n",
       "      <th>...</th>\n",
       "      <td>...</td>\n",
       "      <td>...</td>\n",
       "    </tr>\n",
       "    <tr>\n",
       "      <th>995</th>\n",
       "      <td>NaN</td>\n",
       "      <td>Recife</td>\n",
       "    </tr>\n",
       "    <tr>\n",
       "      <th>996</th>\n",
       "      <td>NaN</td>\n",
       "      <td>Salvador</td>\n",
       "    </tr>\n",
       "    <tr>\n",
       "      <th>997</th>\n",
       "      <td>31.0</td>\n",
       "      <td>Curitiba</td>\n",
       "    </tr>\n",
       "    <tr>\n",
       "      <th>998</th>\n",
       "      <td>NaN</td>\n",
       "      <td>Salvador</td>\n",
       "    </tr>\n",
       "    <tr>\n",
       "      <th>999</th>\n",
       "      <td>NaN</td>\n",
       "      <td>Teresina</td>\n",
       "    </tr>\n",
       "  </tbody>\n",
       "</table>\n",
       "<p>1000 rows × 2 columns</p>\n",
       "</div>"
      ],
      "text/plain": [
       "     Idade     Cidade\n",
       "0     29.0     Manaus\n",
       "1      NaN   Curitiba\n",
       "2      NaN  Fortaleza\n",
       "3     65.0     Manaus\n",
       "4      NaN  Fortaleza\n",
       "..     ...        ...\n",
       "995    NaN     Recife\n",
       "996    NaN   Salvador\n",
       "997   31.0   Curitiba\n",
       "998    NaN   Salvador\n",
       "999    NaN   Teresina\n",
       "\n",
       "[1000 rows x 2 columns]"
      ]
     },
     "execution_count": 13,
     "metadata": {},
     "output_type": "execute_result"
    }
   ],
   "source": [
    "# Colunas 2 e 3 (índice 1 e 2)\n",
    "coluna_2_e_3 = df.iloc[:, 1:3]  \n",
    "coluna_2_e_3"
   ]
  },
  {
   "cell_type": "markdown",
   "metadata": {},
   "source": [
    "##### Métodos info() e describe()"
   ]
  },
  {
   "cell_type": "code",
   "execution_count": 14,
   "metadata": {},
   "outputs": [
    {
     "name": "stdout",
     "output_type": "stream",
     "text": [
      "<class 'pandas.core.frame.DataFrame'>\n",
      "RangeIndex: 1000 entries, 0 to 999\n",
      "Data columns (total 4 columns):\n",
      " #   Column   Non-Null Count  Dtype  \n",
      "---  ------   --------------  -----  \n",
      " 0   Nome     1000 non-null   object \n",
      " 1   Idade    496 non-null    float64\n",
      " 2   Cidade   1000 non-null   object \n",
      " 3   Salário  1000 non-null   float64\n",
      "dtypes: float64(2), object(2)\n",
      "memory usage: 31.4+ KB\n"
     ]
    }
   ],
   "source": [
    "# info(): Informações sobre o DataFrame (tipos de dados, valores não nulos, etc.)\n",
    "df.info()"
   ]
  },
  {
   "cell_type": "code",
   "execution_count": 15,
   "metadata": {},
   "outputs": [
    {
     "data": {
      "text/html": [
       "<div>\n",
       "<style scoped>\n",
       "    .dataframe tbody tr th:only-of-type {\n",
       "        vertical-align: middle;\n",
       "    }\n",
       "\n",
       "    .dataframe tbody tr th {\n",
       "        vertical-align: top;\n",
       "    }\n",
       "\n",
       "    .dataframe thead th {\n",
       "        text-align: right;\n",
       "    }\n",
       "</style>\n",
       "<table border=\"1\" class=\"dataframe\">\n",
       "  <thead>\n",
       "    <tr style=\"text-align: right;\">\n",
       "      <th></th>\n",
       "      <th>Idade</th>\n",
       "      <th>Salário</th>\n",
       "    </tr>\n",
       "  </thead>\n",
       "  <tbody>\n",
       "    <tr>\n",
       "      <th>count</th>\n",
       "      <td>496.000000</td>\n",
       "      <td>1000.000000</td>\n",
       "    </tr>\n",
       "    <tr>\n",
       "      <th>mean</th>\n",
       "      <td>44.018145</td>\n",
       "      <td>5699.578980</td>\n",
       "    </tr>\n",
       "    <tr>\n",
       "      <th>std</th>\n",
       "      <td>15.262738</td>\n",
       "      <td>2486.157528</td>\n",
       "    </tr>\n",
       "    <tr>\n",
       "      <th>min</th>\n",
       "      <td>18.000000</td>\n",
       "      <td>1506.980000</td>\n",
       "    </tr>\n",
       "    <tr>\n",
       "      <th>25%</th>\n",
       "      <td>31.000000</td>\n",
       "      <td>3556.767500</td>\n",
       "    </tr>\n",
       "    <tr>\n",
       "      <th>50%</th>\n",
       "      <td>44.000000</td>\n",
       "      <td>5629.440000</td>\n",
       "    </tr>\n",
       "    <tr>\n",
       "      <th>75%</th>\n",
       "      <td>57.000000</td>\n",
       "      <td>7923.920000</td>\n",
       "    </tr>\n",
       "    <tr>\n",
       "      <th>max</th>\n",
       "      <td>70.000000</td>\n",
       "      <td>9977.560000</td>\n",
       "    </tr>\n",
       "  </tbody>\n",
       "</table>\n",
       "</div>"
      ],
      "text/plain": [
       "            Idade      Salário\n",
       "count  496.000000  1000.000000\n",
       "mean    44.018145  5699.578980\n",
       "std     15.262738  2486.157528\n",
       "min     18.000000  1506.980000\n",
       "25%     31.000000  3556.767500\n",
       "50%     44.000000  5629.440000\n",
       "75%     57.000000  7923.920000\n",
       "max     70.000000  9977.560000"
      ]
     },
     "execution_count": 15,
     "metadata": {},
     "output_type": "execute_result"
    }
   ],
   "source": [
    "# describe(): Estatísticas descritivas das colunas numéricas\n",
    "df.describe()"
   ]
  },
  {
   "cell_type": "markdown",
   "metadata": {},
   "source": [
    "##### Métodos isnull() e fillna()"
   ]
  },
  {
   "cell_type": "code",
   "execution_count": 16,
   "metadata": {},
   "outputs": [
    {
     "data": {
      "text/html": [
       "<div>\n",
       "<style scoped>\n",
       "    .dataframe tbody tr th:only-of-type {\n",
       "        vertical-align: middle;\n",
       "    }\n",
       "\n",
       "    .dataframe tbody tr th {\n",
       "        vertical-align: top;\n",
       "    }\n",
       "\n",
       "    .dataframe thead th {\n",
       "        text-align: right;\n",
       "    }\n",
       "</style>\n",
       "<table border=\"1\" class=\"dataframe\">\n",
       "  <thead>\n",
       "    <tr style=\"text-align: right;\">\n",
       "      <th></th>\n",
       "      <th>Nome</th>\n",
       "      <th>Idade</th>\n",
       "      <th>Cidade</th>\n",
       "      <th>Salário</th>\n",
       "    </tr>\n",
       "  </thead>\n",
       "  <tbody>\n",
       "    <tr>\n",
       "      <th>0</th>\n",
       "      <td>False</td>\n",
       "      <td>False</td>\n",
       "      <td>False</td>\n",
       "      <td>False</td>\n",
       "    </tr>\n",
       "    <tr>\n",
       "      <th>1</th>\n",
       "      <td>False</td>\n",
       "      <td>True</td>\n",
       "      <td>False</td>\n",
       "      <td>False</td>\n",
       "    </tr>\n",
       "    <tr>\n",
       "      <th>2</th>\n",
       "      <td>False</td>\n",
       "      <td>True</td>\n",
       "      <td>False</td>\n",
       "      <td>False</td>\n",
       "    </tr>\n",
       "    <tr>\n",
       "      <th>3</th>\n",
       "      <td>False</td>\n",
       "      <td>False</td>\n",
       "      <td>False</td>\n",
       "      <td>False</td>\n",
       "    </tr>\n",
       "    <tr>\n",
       "      <th>4</th>\n",
       "      <td>False</td>\n",
       "      <td>True</td>\n",
       "      <td>False</td>\n",
       "      <td>False</td>\n",
       "    </tr>\n",
       "    <tr>\n",
       "      <th>...</th>\n",
       "      <td>...</td>\n",
       "      <td>...</td>\n",
       "      <td>...</td>\n",
       "      <td>...</td>\n",
       "    </tr>\n",
       "    <tr>\n",
       "      <th>995</th>\n",
       "      <td>False</td>\n",
       "      <td>True</td>\n",
       "      <td>False</td>\n",
       "      <td>False</td>\n",
       "    </tr>\n",
       "    <tr>\n",
       "      <th>996</th>\n",
       "      <td>False</td>\n",
       "      <td>True</td>\n",
       "      <td>False</td>\n",
       "      <td>False</td>\n",
       "    </tr>\n",
       "    <tr>\n",
       "      <th>997</th>\n",
       "      <td>False</td>\n",
       "      <td>False</td>\n",
       "      <td>False</td>\n",
       "      <td>False</td>\n",
       "    </tr>\n",
       "    <tr>\n",
       "      <th>998</th>\n",
       "      <td>False</td>\n",
       "      <td>True</td>\n",
       "      <td>False</td>\n",
       "      <td>False</td>\n",
       "    </tr>\n",
       "    <tr>\n",
       "      <th>999</th>\n",
       "      <td>False</td>\n",
       "      <td>True</td>\n",
       "      <td>False</td>\n",
       "      <td>False</td>\n",
       "    </tr>\n",
       "  </tbody>\n",
       "</table>\n",
       "<p>1000 rows × 4 columns</p>\n",
       "</div>"
      ],
      "text/plain": [
       "      Nome  Idade  Cidade  Salário\n",
       "0    False  False   False    False\n",
       "1    False   True   False    False\n",
       "2    False   True   False    False\n",
       "3    False  False   False    False\n",
       "4    False   True   False    False\n",
       "..     ...    ...     ...      ...\n",
       "995  False   True   False    False\n",
       "996  False   True   False    False\n",
       "997  False  False   False    False\n",
       "998  False   True   False    False\n",
       "999  False   True   False    False\n",
       "\n",
       "[1000 rows x 4 columns]"
      ]
     },
     "execution_count": 16,
     "metadata": {},
     "output_type": "execute_result"
    }
   ],
   "source": [
    "# isnull(): Identificando valores nulos (retorna True para nulos)\n",
    "valores_nulos = df.isnull()\n",
    "valores_nulos"
   ]
  },
  {
   "cell_type": "code",
   "execution_count": 17,
   "metadata": {},
   "outputs": [
    {
     "data": {
      "text/plain": [
       "Nome         0\n",
       "Idade      504\n",
       "Cidade       0\n",
       "Salário      0\n",
       "dtype: int64"
      ]
     },
     "execution_count": 17,
     "metadata": {},
     "output_type": "execute_result"
    }
   ],
   "source": [
    "# Se usarmos o método .sum(), considerando que há uma \"conversão\" de True para o inteiro 1 e False para 0, teremos a quantidade total de nulos por coluna\n",
    "valores_nulos.sum()"
   ]
  },
  {
   "cell_type": "code",
   "execution_count": 18,
   "metadata": {},
   "outputs": [
    {
     "name": "stdout",
     "output_type": "stream",
     "text": [
      "44.01814516129032\n",
      "44.0\n"
     ]
    }
   ],
   "source": [
    "# Verificando o valor da média e da mediana da coluna Idade antes do tratamento\n",
    "print(df['Idade'].mean())\n",
    "print(df['Idade'].median())"
   ]
  },
  {
   "cell_type": "code",
   "execution_count": 19,
   "metadata": {},
   "outputs": [
    {
     "data": {
      "text/html": [
       "<div>\n",
       "<style scoped>\n",
       "    .dataframe tbody tr th:only-of-type {\n",
       "        vertical-align: middle;\n",
       "    }\n",
       "\n",
       "    .dataframe tbody tr th {\n",
       "        vertical-align: top;\n",
       "    }\n",
       "\n",
       "    .dataframe thead th {\n",
       "        text-align: right;\n",
       "    }\n",
       "</style>\n",
       "<table border=\"1\" class=\"dataframe\">\n",
       "  <thead>\n",
       "    <tr style=\"text-align: right;\">\n",
       "      <th></th>\n",
       "      <th>Nome</th>\n",
       "      <th>Idade</th>\n",
       "      <th>Cidade</th>\n",
       "      <th>Salário</th>\n",
       "    </tr>\n",
       "  </thead>\n",
       "  <tbody>\n",
       "    <tr>\n",
       "      <th>0</th>\n",
       "      <td>Gustavo</td>\n",
       "      <td>29.0</td>\n",
       "      <td>Manaus</td>\n",
       "      <td>6568.87</td>\n",
       "    </tr>\n",
       "    <tr>\n",
       "      <th>1</th>\n",
       "      <td>Gustavo</td>\n",
       "      <td>44.0</td>\n",
       "      <td>Curitiba</td>\n",
       "      <td>3395.24</td>\n",
       "    </tr>\n",
       "    <tr>\n",
       "      <th>2</th>\n",
       "      <td>Ana</td>\n",
       "      <td>44.0</td>\n",
       "      <td>Fortaleza</td>\n",
       "      <td>1562.50</td>\n",
       "    </tr>\n",
       "    <tr>\n",
       "      <th>3</th>\n",
       "      <td>Eduardo</td>\n",
       "      <td>65.0</td>\n",
       "      <td>Manaus</td>\n",
       "      <td>5290.35</td>\n",
       "    </tr>\n",
       "    <tr>\n",
       "      <th>4</th>\n",
       "      <td>Igor</td>\n",
       "      <td>44.0</td>\n",
       "      <td>Fortaleza</td>\n",
       "      <td>1591.56</td>\n",
       "    </tr>\n",
       "    <tr>\n",
       "      <th>...</th>\n",
       "      <td>...</td>\n",
       "      <td>...</td>\n",
       "      <td>...</td>\n",
       "      <td>...</td>\n",
       "    </tr>\n",
       "    <tr>\n",
       "      <th>995</th>\n",
       "      <td>Diana</td>\n",
       "      <td>44.0</td>\n",
       "      <td>Recife</td>\n",
       "      <td>4176.71</td>\n",
       "    </tr>\n",
       "    <tr>\n",
       "      <th>996</th>\n",
       "      <td>Ana</td>\n",
       "      <td>44.0</td>\n",
       "      <td>Salvador</td>\n",
       "      <td>4562.78</td>\n",
       "    </tr>\n",
       "    <tr>\n",
       "      <th>997</th>\n",
       "      <td>Bruno</td>\n",
       "      <td>31.0</td>\n",
       "      <td>Curitiba</td>\n",
       "      <td>1797.11</td>\n",
       "    </tr>\n",
       "    <tr>\n",
       "      <th>998</th>\n",
       "      <td>Juliana</td>\n",
       "      <td>44.0</td>\n",
       "      <td>Salvador</td>\n",
       "      <td>9383.31</td>\n",
       "    </tr>\n",
       "    <tr>\n",
       "      <th>999</th>\n",
       "      <td>Bruno</td>\n",
       "      <td>44.0</td>\n",
       "      <td>Teresina</td>\n",
       "      <td>7890.67</td>\n",
       "    </tr>\n",
       "  </tbody>\n",
       "</table>\n",
       "<p>1000 rows × 4 columns</p>\n",
       "</div>"
      ],
      "text/plain": [
       "        Nome  Idade     Cidade  Salário\n",
       "0    Gustavo   29.0     Manaus  6568.87\n",
       "1    Gustavo   44.0   Curitiba  3395.24\n",
       "2        Ana   44.0  Fortaleza  1562.50\n",
       "3    Eduardo   65.0     Manaus  5290.35\n",
       "4       Igor   44.0  Fortaleza  1591.56\n",
       "..       ...    ...        ...      ...\n",
       "995    Diana   44.0     Recife  4176.71\n",
       "996      Ana   44.0   Salvador  4562.78\n",
       "997    Bruno   31.0   Curitiba  1797.11\n",
       "998  Juliana   44.0   Salvador  9383.31\n",
       "999    Bruno   44.0   Teresina  7890.67\n",
       "\n",
       "[1000 rows x 4 columns]"
      ]
     },
     "execution_count": 19,
     "metadata": {},
     "output_type": "execute_result"
    }
   ],
   "source": [
    "# fillna(): Preenchendo valores nulos\n",
    "df_idades_nulas_com_media = df.fillna(df['Idade'].median())  # Preenche com a mediana da coluna Idade\n",
    "df_idades_nulas_com_media"
   ]
  },
  {
   "cell_type": "code",
   "execution_count": 20,
   "metadata": {},
   "outputs": [
    {
     "data": {
      "text/plain": [
       "Nome       0\n",
       "Idade      0\n",
       "Cidade     0\n",
       "Salário    0\n",
       "dtype: int64"
      ]
     },
     "execution_count": 20,
     "metadata": {},
     "output_type": "execute_result"
    }
   ],
   "source": [
    "# Ao rodar a quantidade de nulos por coluna, vamos ver se tudo foi preenchido\n",
    "df_idades_nulas_com_media.isnull().sum()"
   ]
  },
  {
   "cell_type": "markdown",
   "metadata": {},
   "source": [
    "##### Visualizando as Idades e os Salários"
   ]
  },
  {
   "cell_type": "code",
   "execution_count": 24,
   "metadata": {},
   "outputs": [
    {
     "data": {
      "text/plain": [
       "<Axes: xlabel='Salário', ylabel='Count'>"
      ]
     },
     "execution_count": 24,
     "metadata": {},
     "output_type": "execute_result"
    },
    {
     "data": {
      "image/png": "[encoded data removed]",
      "text/plain": [
       "<Figure size 640x480 with 1 Axes>"
      ]
     },
     "metadata": {},
     "output_type": "display_data"
    }
   ],
   "source": [
    "# Histograma dos Salários\n",
    "sns.histplot(data=df, x=\"Salário\")"
   ]
  },
  {
   "cell_type": "code",
   "execution_count": 43,
   "metadata": {},
   "outputs": [
    {
     "data": {
      "text/plain": [
       "<Axes: xlabel='Salário', ylabel='Idade'>"
      ]
     },
     "execution_count": 43,
     "metadata": {},
     "output_type": "execute_result"
    },
    {
     "data": {
      "image/png": "[encoded data removed]",
      "text/plain": [
       "<Figure size 640x480 with 1 Axes>"
      ]
     },
     "metadata": {},
     "output_type": "display_data"
    }
   ],
   "source": [
    "# Gráfico de dispersão entre Idades e Salários\n",
    "sns.scatterplot(data=df, x=\"Salário\", y=\"Idade\")"
   ]
  },
  {
   "cell_type": "code",
   "execution_count": null,
   "metadata": {},
   "outputs": [],
   "source": []
  }
 ],
 "metadata": {
  "kernelspec": {
   "display_name": "coder-python",
   "language": "python",
   "name": "python3"
  },
  "language_info": {
   "codemirror_mode": {
    "name": "ipython",
    "version": 3
   },
   "file_extension": ".py",
   "mimetype": "text/x-python",
   "name": "python",
   "nbconvert_exporter": "python",
   "pygments_lexer": "ipython3",
   "version": "3.12.3"
  }
 },
 "nbformat": 4,
 "nbformat_minor": 2
}
